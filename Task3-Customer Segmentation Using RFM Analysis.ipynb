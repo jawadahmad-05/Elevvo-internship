{
 "cells": [
  {
   "cell_type": "code",
   "execution_count": 1,
   "id": "16749a16",
   "metadata": {},
   "outputs": [],
   "source": [
    "import pandas as pd\n",
    "import numpy as np\n",
    "import seaborn as sns\n",
    "import matplotlib.pyplot as plt"
   ]
  },
  {
   "cell_type": "code",
   "execution_count": 2,
   "id": "b61404a4",
   "metadata": {},
   "outputs": [],
   "source": [
    "# Load dataset\n",
    "df = pd.read_excel(\"Online_Retail.xlsx\")"
   ]
  },
  {
   "cell_type": "code",
   "execution_count": 3,
   "id": "fec76332",
   "metadata": {},
   "outputs": [
    {
     "name": "stdout",
     "output_type": "stream",
     "text": [
      "Preview of dataset:\n",
      "  InvoiceNo StockCode                          Description  Quantity  \\\n",
      "0    536365    85123A   WHITE HANGING HEART T-LIGHT HOLDER         6   \n",
      "1    536365     71053                  WHITE METAL LANTERN         6   \n",
      "2    536365    84406B       CREAM CUPID HEARTS COAT HANGER         8   \n",
      "3    536365    84029G  KNITTED UNION FLAG HOT WATER BOTTLE         6   \n",
      "4    536365    84029E       RED WOOLLY HOTTIE WHITE HEART.         6   \n",
      "\n",
      "          InvoiceDate  UnitPrice  CustomerID         Country  \n",
      "0 2010-12-01 08:26:00       2.55     17850.0  United Kingdom  \n",
      "1 2010-12-01 08:26:00       3.39     17850.0  United Kingdom  \n",
      "2 2010-12-01 08:26:00       2.75     17850.0  United Kingdom  \n",
      "3 2010-12-01 08:26:00       3.39     17850.0  United Kingdom  \n",
      "4 2010-12-01 08:26:00       3.39     17850.0  United Kingdom   \n",
      "\n",
      "Summary Statistics:\n",
      "               count          mean          std       min       25%       50%  \\\n",
      "Quantity    541909.0      9.552250   218.081158 -80995.00      1.00      3.00   \n",
      "UnitPrice   541909.0      4.611114    96.759853 -11062.06      1.25      2.08   \n",
      "CustomerID  406829.0  15287.690570  1713.600303  12346.00  13953.00  15152.00   \n",
      "\n",
      "                 75%      max  \n",
      "Quantity       10.00  80995.0  \n",
      "UnitPrice       4.13  38970.0  \n",
      "CustomerID  16791.00  18287.0   \n",
      "\n",
      "Null Values per Column:\n",
      "InvoiceNo           0\n",
      "StockCode           0\n",
      "Description      1454\n",
      "Quantity            0\n",
      "InvoiceDate         0\n",
      "UnitPrice           0\n",
      "CustomerID     135080\n",
      "Country             0\n",
      "dtype: int64 \n",
      "\n"
     ]
    }
   ],
   "source": [
    "print(\"Preview of dataset:\")\n",
    "print(df.head(), \"\\n\")\n",
    "\n",
    "# Summary statistics\n",
    "print(\"Summary Statistics:\")\n",
    "print(df.describe().T, \"\\n\")\n",
    "\n",
    "# Check null values\n",
    "print(\"Null Values per Column:\")\n",
    "print(df.isnull().sum(), \"\\n\")"
   ]
  },
  {
   "cell_type": "markdown",
   "id": "058013db",
   "metadata": {},
   "source": [
    "### Data Cleaning"
   ]
  },
  {
   "cell_type": "code",
   "execution_count": 4,
   "id": "133319c4",
   "metadata": {},
   "outputs": [],
   "source": [
    "# Remove missing values\n",
    "df = df.dropna(subset=[\"CustomerID\"])\n",
    "df = df.dropna(subset=[\"Description\"])"
   ]
  },
  {
   "cell_type": "code",
   "execution_count": 5,
   "id": "1315c0d5",
   "metadata": {},
   "outputs": [],
   "source": [
    "# Remove cancellations (negative quantities)\n",
    "df = df[df[\"Quantity\"] > 0]"
   ]
  },
  {
   "cell_type": "code",
   "execution_count": 6,
   "id": "165af62a",
   "metadata": {},
   "outputs": [],
   "source": [
    "# Calculate total sales per transaction\n",
    "df[\"TotalPrice\"] = df[\"Quantity\"] * df[\"UnitPrice\"]\n"
   ]
  },
  {
   "cell_type": "code",
   "execution_count": 7,
   "id": "da9f2ac7",
   "metadata": {},
   "outputs": [
    {
     "name": "stdout",
     "output_type": "stream",
     "text": [
      "Snapshot Date set to 2011-12-10 12:50:00 \n",
      "\n"
     ]
    }
   ],
   "source": [
    "# Define Snapshot Date\n",
    "\n",
    "snapshot_date = df[\"InvoiceDate\"].max() + pd.Timedelta(days=1)\n",
    "print(\"Snapshot Date set to\", snapshot_date, \"\\n\")"
   ]
  },
  {
   "cell_type": "markdown",
   "id": "2d56d019",
   "metadata": {},
   "source": [
    "###  RFM Metrics"
   ]
  },
  {
   "cell_type": "code",
   "execution_count": 8,
   "id": "c5bcbda2",
   "metadata": {},
   "outputs": [
    {
     "name": "stdout",
     "output_type": "stream",
     "text": [
      "RFM Table Created\n",
      "   CustomerID  Recency  Frequency  Monetary\n",
      "0     12346.0      326          1  77183.60\n",
      "1     12347.0        2          7   4310.00\n",
      "2     12348.0       75          4   1797.24\n",
      "3     12349.0       19          1   1757.55\n",
      "4     12350.0      310          1    334.40 \n",
      "\n"
     ]
    }
   ],
   "source": [
    "# Compute RFM Metrics\n",
    "rfm = df.groupby(\"CustomerID\").agg({\n",
    "    \"InvoiceDate\": lambda x: (snapshot_date - x.max()).days,  # Recency\n",
    "    \"InvoiceNo\": \"nunique\",                                   # Frequency\n",
    "    \"TotalPrice\": \"sum\"                                       # Monetary\n",
    "}).reset_index()\n",
    "\n",
    "rfm.rename(columns={\n",
    "    \"InvoiceDate\": \"Recency\",\n",
    "    \"InvoiceNo\": \"Frequency\",\n",
    "    \"TotalPrice\": \"Monetary\"\n",
    "}, inplace=True)\n",
    "print(\"RFM Table Created\")\n",
    "print(rfm.head(), \"\\n\")"
   ]
  },
  {
   "cell_type": "code",
   "execution_count": 13,
   "id": "175c83d9",
   "metadata": {},
   "outputs": [
    {
     "name": "stdout",
     "output_type": "stream",
     "text": [
      "RFM Scores Assigned\n",
      " CustomerID     Recency     Frequency    Monetary   RFM_Segment    RFM_Score \n",
      "  12346.00       326           1         77183.60       115            7     \n",
      "  12347.00         2           7          4310.00       555           15     \n",
      "  12348.00        75           4          1797.24       244           10     \n",
      "  12349.00        19           1          1757.55       414            9     \n",
      "  12350.00       310           1           334.40       112            4     \n",
      "  12352.00        36           8          2506.04       355           13     \n",
      "  12353.00       204           1            89.00       111            3     \n",
      "  12354.00       232           1          1079.40       114            6     \n",
      "  12355.00       214           1           459.40       112            4     \n",
      "  12356.00        23           3          2811.43       435           12     \n"
     ]
    }
   ],
   "source": [
    "# Assign RFM Scores\n",
    "# 1 = lowest, 5 = highest\n",
    "rfm[\"R_Score\"] = pd.qcut(rfm[\"Recency\"], 5, labels=[5,4,3,2,1]).astype(int)\n",
    "rfm[\"F_Score\"] = pd.qcut(rfm[\"Frequency\"].rank(method=\"first\"), 5, labels=[1,2,3,4,5]).astype(int)\n",
    "rfm[\"M_Score\"] = pd.qcut(rfm[\"Monetary\"], 5, labels=[1,2,3,4,5]).astype(int)\n",
    "\n",
    "# Create RFM Segment & Score\n",
    "rfm[\"RFM_Segment\"] = rfm[\"R_Score\"].astype(str) + rfm[\"F_Score\"].astype(str) + rfm[\"M_Score\"].astype(str)\n",
    "rfm[\"RFM_Score\"] = rfm[[\"R_Score\",\"F_Score\",\"M_Score\"]].sum(axis=1)\n",
    "\n",
    "print(\"RFM Scores Assigned\")\n",
    "print(rfm[[\"CustomerID\",\"Recency\",\"Frequency\",\"Monetary\",\"RFM_Segment\",\"RFM_Score\"]].head(10).to_string(index=False, justify=\"center\", col_space=12, float_format=\"%.2f\"))\n"
   ]
  },
  {
   "cell_type": "markdown",
   "id": "53cd9665",
   "metadata": {},
   "source": [
    "### Customer Segmentation"
   ]
  },
  {
   "cell_type": "code",
   "execution_count": 10,
   "id": "e7310d1d",
   "metadata": {},
   "outputs": [
    {
     "name": "stdout",
     "output_type": "stream",
     "text": [
      "Customers Segmented\n",
      "Champions              1256\n",
      "Potential Loyalists    1178\n",
      "Loyal Customers        1022\n",
      "At Risk                 883\n",
      "Name: Segment, dtype: int64 \n",
      "\n"
     ]
    }
   ],
   "source": [
    "# Define Customer Groups\n",
    "def rfm_level(row):\n",
    "    if row[\"RFM_Score\"] >= 12:\n",
    "        return \"Champions\"\n",
    "    elif row[\"RFM_Score\"] >= 9:\n",
    "        return \"Loyal Customers\"\n",
    "    elif row[\"RFM_Score\"] >= 6:\n",
    "        return \"Potential Loyalists\"\n",
    "    else:\n",
    "        return \"At Risk\"\n",
    "\n",
    "rfm[\"Segment\"] = rfm.apply(rfm_level, axis=1)\n",
    "\n",
    "print(\"Customers Segmented\")\n",
    "print(rfm[\"Segment\"].value_counts(), \"\\n\")"
   ]
  },
  {
   "cell_type": "markdown",
   "id": "fabcd5f5",
   "metadata": {},
   "source": [
    "### Visualization\n"
   ]
  },
  {
   "cell_type": "code",
   "execution_count": 11,
   "id": "f1a5ef5a",
   "metadata": {},
   "outputs": [
    {
     "data": {
      "image/png": "[encoded data removed]",
      "text/plain": [
       "<Figure size 576x432 with 1 Axes>"
      ]
     },
     "metadata": {
      "needs_background": "light"
     },
     "output_type": "display_data"
    },
    {
     "data": {
      "image/png": "[encoded data removed]",
      "text/plain": [
       "<Figure size 720x432 with 2 Axes>"
      ]
     },
     "metadata": {
      "needs_background": "light"
     },
     "output_type": "display_data"
    }
   ],
   "source": [
    "plt.figure(figsize=(8,6))\n",
    "sns.countplot(data=rfm, x=\"Segment\", order=rfm[\"Segment\"].value_counts().index, palette=\"Set2\")\n",
    "plt.title(\"Customer Segmentation (RFM)\")\n",
    "plt.xlabel(\"Segment\")\n",
    "plt.ylabel(\"Number of Customers\")\n",
    "plt.xticks(rotation=30)\n",
    "plt.show()\n",
    "\n",
    "# Heatmap for RFM Scores\n",
    "rfm_heatmap = rfm.groupby([\"R_Score\",\"F_Score\"]).size().unstack(fill_value=0)\n",
    "plt.figure(figsize=(10,6))\n",
    "sns.heatmap(rfm_heatmap, cmap=\"YlGnBu\", annot=True, fmt=\"d\")\n",
    "plt.title(\"Heatmap of Customers by Recency & Frequency\")\n",
    "plt.show()\n",
    "\n"
   ]
  },
  {
   "cell_type": "markdown",
   "id": "83334cb5",
   "metadata": {},
   "source": [
    "### Marketing Ideas\n"
   ]
  },
  {
   "cell_type": "code",
   "execution_count": 12,
   "id": "20ce57b3",
   "metadata": {},
   "outputs": [
    {
     "name": "stdout",
     "output_type": "stream",
     "text": [
      "Customer Segments:\n",
      " Champions              1256\n",
      "Potential Loyalists    1178\n",
      "Loyal Customers        1022\n",
      "At Risk                 883\n",
      "Name: Segment, dtype: int64\n",
      "\n",
      "Marketing Strategies:\n",
      "Champions: Reward with loyalty programs, exclusive discounts, early access to new products.\n",
      "Loyal Customers: Upsell and cross-sell with personalized offers, build community engagement.\n",
      "Potential Loyalists: Offer discounts and incentives to convert them into loyal buyers.\n",
      "At Risk: Send win-back campaigns, reminders, and special discounts to re-engage.\n"
     ]
    }
   ],
   "source": [
    "marketing_strategies = {\n",
    "    \"Champions\": \"Reward with loyalty programs, exclusive discounts, early access to new products.\",\n",
    "    \"Loyal Customers\": \"Upsell and cross-sell with personalized offers, build community engagement.\",\n",
    "    \"Potential Loyalists\": \"Offer discounts and incentives to convert them into loyal buyers.\",\n",
    "    \"At Risk\": \"Send win-back campaigns, reminders, and special discounts to re-engage.\"\n",
    "}\n",
    "\n",
    "# Display results\n",
    "print(\"Customer Segments:\\n\", rfm[\"Segment\"].value_counts())\n",
    "print(\"\\nMarketing Strategies:\")\n",
    "for segment, strategy in marketing_strategies.items():\n",
    "    print(f\"{segment}: {strategy}\")\n"
   ]
  },
  {
   "cell_type": "code",
   "execution_count": null,
   "id": "8e2b63a4",
   "metadata": {},
   "outputs": [],
   "source": []
  }
 ],
 "metadata": {
  "kernelspec": {
   "display_name": "Python 3 (ipykernel)",
   "language": "python",
   "name": "python3"
  },
  "language_info": {
   "codemirror_mode": {
    "name": "ipython",
    "version": 3
   },
   "file_extension": ".py",
   "mimetype": "text/x-python",
   "name": "python",
   "nbconvert_exporter": "python",
   "pygments_lexer": "ipython3",
   "version": "3.9.7"
  }
 },
 "nbformat": 4,
 "nbformat_minor": 5
}
